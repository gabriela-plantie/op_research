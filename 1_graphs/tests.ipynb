{
 "metadata": {
  "language_info": {
   "codemirror_mode": {
    "name": "ipython",
    "version": 3
   },
   "file_extension": ".py",
   "mimetype": "text/x-python",
   "name": "python",
   "nbconvert_exporter": "python",
   "pygments_lexer": "ipython3",
   "version": "3.9.1"
  },
  "orig_nbformat": 2,
  "kernelspec": {
   "name": "python391jvsc74a57bd03bc25b3f1a0b55c992b4f0dc54f1858488546ee01eb09ba219eba82b9e51b543",
   "display_name": "Python 3.9.1 64-bit ('3.9.1')"
  }
 },
 "nbformat": 4,
 "nbformat_minor": 2,
 "cells": [
  {
   "source": [
    "## Tests\n"
   ],
   "cell_type": "markdown",
   "metadata": {}
  },
  {
   "cell_type": "code",
   "execution_count": 1,
   "metadata": {},
   "outputs": [],
   "source": [
    "from graphviz import Source\n",
    "from abc import ABC, abstractmethod\n",
    "import numpy as np\n",
    "import importlib\n",
    "from string import ascii_lowercase\n",
    "import random \n",
    "import dijkstar as djks"
   ]
  },
  {
   "cell_type": "code",
   "execution_count": 2,
   "metadata": {},
   "outputs": [
    {
     "output_type": "execute_result",
     "data": {
      "text/plain": [
       "<module 'classes_and_functions' from '/Users/gaby/Documents/Op_research/1_graphs/classes_and_functions.py'>"
      ]
     },
     "metadata": {},
     "execution_count": 2
    }
   ],
   "source": [
    "import classes_and_functions as cf\n",
    "importlib.reload(cf)"
   ]
  },
  {
   "cell_type": "code",
   "execution_count": 3,
   "metadata": {},
   "outputs": [],
   "source": [
    "# choose type of graph\n",
    "def create_nodes():\n",
    "    q_nodes = random.choice(range(3, 15))\n",
    "    nodes = random.sample(ascii_lowercase[:q_nodes], q_nodes)\n",
    "    nodes.sort()\n",
    "    #print(nodes)\n",
    "    return nodes\n",
    "\n",
    "def random_tests():\n",
    "    types_of_graphs = [ 'Directed','Undirected']\n",
    "    graph = random.choice(types_of_graphs)\n",
    "    nodes = create_nodes() \n",
    "\n",
    "    #initilize graph \n",
    "    if graph == 'Directed':\n",
    "        g = cf.DiGraph()    \n",
    "        g1 = djks.Graph( undirected = False)\n",
    "    else:    \n",
    "        g = cf.UndirectedGraph()\n",
    "        g1 = djks.Graph( undirected = True)\n",
    "\n",
    "    for node in nodes:\n",
    "        g.add_node(node)\n",
    "    ## create tuples for distances\n",
    "    tuples = list()\n",
    "    for x in range(len(nodes)-1):\n",
    "        #print(x)\n",
    "        for y in range(x+1,len(nodes)):\n",
    "            #print('y '+ str(y) )\n",
    "            tuples.append((nodes[x],nodes[y]) )\n",
    "            if graph == 'Directed':\n",
    "                tuples.append((nodes[y],nodes[x]) )\n",
    "    \n",
    "    tuples_choose = set(tuples)\n",
    "    sets = []\n",
    "    top_lim = max(4, int(np.floor(len(tuples)*.70 ) ) )\n",
    "    #print('top_lim' + str(top_lim))\n",
    "    q_relations = random.choice(range(3, top_lim ))\n",
    "    #print(q_relations)\n",
    "\n",
    "    while len(sets) < q_relations:\n",
    "        #print(sets)\n",
    "        _set = random.choice(list(tuples_choose))\n",
    "        node_1, node_2 = _set[0], _set[1]\n",
    "        d = random.choice(range(1,11))\n",
    "        g.add_distance(node_1, node_2, d)\n",
    "        g1.add_edge(node_1, node_2, d)\n",
    "        if graph == 'Undirected':\n",
    "            if node_1 > node_2:\n",
    "                node_1 = node_2\n",
    "                node_2 = set[0]\n",
    "        sets.append((node_1, node_2))\n",
    "        tuples_choose.remove(_set)\n",
    "        #print(tuples_choose)\n",
    "\n",
    "\n",
    "    #g.render()\n",
    "    origin, destiny = random.sample(nodes,2)\n",
    "    res_g = cf.dijkstra(g, origin, destiny)\n",
    "    if res_g != 'origin and destiny not connected':\n",
    "        res_g= res_g[0]\n",
    "    try:\n",
    "        res_g1 = djks.find_path(g1, origin, destiny)\n",
    "        res_g1 = res_g1.nodes\n",
    "        #print(res_g1)\n",
    "    except:\n",
    "        res_g1 = 'origin and destiny not connected'\n",
    "    return [(res_g == res_g1), res_g, res_g1, g, g1, (origin, destiny)]"
   ]
  },
  {
   "cell_type": "code",
   "execution_count": 8,
   "metadata": {
    "tags": []
   },
   "outputs": [
    {
     "output_type": "stream",
     "name": "stdout",
     "text": [
      "995\n5\n"
     ]
    }
   ],
   "source": [
    "res= []\n",
    "for i in range(1000):\n",
    "    rt = random_tests()\n",
    "    res.append(rt)\n",
    "    \n",
    "print(sum([x[0] for x in res]))\n",
    "review = [y for x,y in zip(res, range(len(res))) if x[0]==False]\n",
    "print(len(review))"
   ]
  },
  {
   "cell_type": "code",
   "execution_count": 9,
   "metadata": {},
   "outputs": [],
   "source": [
    "def evaluate_distances_test(review): \n",
    "    _view =[]\n",
    "    for rev in review:\n",
    "        r = res[rev]\n",
    "        comp = r[1],r[2]\n",
    "        for ret in comp:\n",
    "            _sum = 0\n",
    "            for i in range(len(ret)-1):\n",
    "                _sum +=(r[3].get_distance(ret[i], ret[i+1]))\n",
    "            _view.append(_sum)\n",
    "    print(_view)\n",
    "    for i in range(int(len(_view)/2)):\n",
    "        print(_view[i*2] == _view[i*2+1]) "
   ]
  },
  {
   "cell_type": "code",
   "execution_count": 10,
   "metadata": {},
   "outputs": [
    {
     "output_type": "stream",
     "name": "stdout",
     "text": [
      "[4, 4, 5, 5, 8, 8, 8, 8, 11, 11]\nTrue\nTrue\nTrue\nTrue\nTrue\n"
     ]
    }
   ],
   "source": [
    "evaluate_distances_test(review)"
   ]
  },
  {
   "cell_type": "code",
   "execution_count": null,
   "metadata": {},
   "outputs": [],
   "source": []
  }
 ]
}