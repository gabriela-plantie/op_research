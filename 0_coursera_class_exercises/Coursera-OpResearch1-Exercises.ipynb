{
 "cells": [
  {
   "cell_type": "code",
   "execution_count": 246,
   "id": "specialized-actress",
   "metadata": {},
   "outputs": [],
   "source": [
    "import pulp as plp # linear optim problems\n",
    "import cvxpy as cp # convex optim problems\n",
    "import numpy as np\n",
    "import matplotlib.pyplot as plt\n",
    "import itertools"
   ]
  },
  {
   "cell_type": "markdown",
   "id": "working-little",
   "metadata": {},
   "source": [
    "## any simple linear problem bounded"
   ]
  },
  {
   "cell_type": "code",
   "execution_count": 11,
   "id": "blond-possession",
   "metadata": {},
   "outputs": [
    {
     "name": "stdout",
     "output_type": "stream",
     "text": [
      "Status: Optimal\n",
      "x1 = 0.0\n",
      "x2 = 3.0\n",
      "objective value =  3.0\n"
     ]
    }
   ],
   "source": [
    "x1 = plp.LpVariable(\"x1\",lowBound= 0, cat='Continuous')\n",
    "x2 = plp.LpVariable(\"x2\",lowBound= 0, cat='Continuous')\n",
    "\n",
    "prob = plp.LpProblem(\"min x1+2x2\", plp.LpMinimize)\n",
    "prob += x1 + x2 # objective\n",
    "prob += x1 + 2*x2 >= 6\n",
    "prob += 2*x1 + x2 <= 6\n",
    "\n",
    "prob.solve()\n",
    "print(\"Status:\", plp.LpStatus[prob.status])\n",
    "\n",
    "for v in prob.variables():\n",
    "    print(v.name, \"=\", v.varValue)\n",
    "print(\"objective value = \", plp.value(prob.objective))"
   ]
  },
  {
   "cell_type": "code",
   "execution_count": 104,
   "id": "korean-airport",
   "metadata": {},
   "outputs": [
    {
     "data": {
      "image/png": "[encoded data removed]",
      "text/plain": [
       "<Figure size 432x288 with 1 Axes>"
      ]
     },
     "metadata": {
      "needs_background": "light"
     },
     "output_type": "display_data"
    }
   ],
   "source": [
    "\n",
    "#I hold x a line while defining new values for each y\n",
    "x1 = np.linspace(start=-5,stop =15, num=100)\n",
    "x2_1 = 6-x1*1/2\n",
    "x2_2 = 6-x1*2\n",
    "x2 = 0 * x1\n",
    "#y3=1-x*0\n",
    "#1*x[1] + 1*x[2] <= 6\n",
    "#y4=6-x\n",
    "\n",
    "for i in range(-10,10,3):\n",
    "    x20 = i -x1/2\n",
    "    plt.plot(x1,x20, color= 'red', ls = '--')\n",
    "\n",
    "plt.plot(x1,x2_1,label=r'$x1+2x2>=6$', color= 'blue')\n",
    "plt.plot(x1,x2_2,label=r'$2x1+x2<=6$', color = 'green')\n",
    "#plt.plot(x1,x2, color = 'violet')\n",
    "#plt.axhline(0, color='0', ls = '--')        #y2 <  5\n",
    "#plt.axvline(3, color='0', ls = '--') #x  >= 1 \n",
    "#plt.plot(x,y3,'b--')  #y3 >= 1\n",
    "plt.fill_between(x1, x2_1, x2_2,\n",
    "                 where = (x1>=0) & (x2_1>=0) & (x2_2<=0) , \n",
    "                 color='blue', alpha=0.3)\n",
    "plt.fill_between(x1, x2_1,  x2,\n",
    "                 where = (x1>=0) & (x2_1>=0) &  (x2>=0), \n",
    "                 color='red', alpha=0.3)\n",
    "\n",
    "#plt.fill_between(x1,  x2, x2_2,\n",
    "#                 where = (x1>=0) &  (x2>=0) & (x2_2<=0), \n",
    "#                 color='yellow', alpha=0.3) # por que no funciona esta?\n",
    "\n",
    "plt.legend(loc=\"upper right\")\n",
    "\n",
    "plt.show()"
   ]
  },
  {
   "cell_type": "markdown",
   "id": "ecological-entry",
   "metadata": {},
   "source": [
    "## 2.9 Personnel scheduling (continuous linear program)"
   ]
  },
  {
   "cell_type": "code",
   "execution_count": 118,
   "id": "conventional-wound",
   "metadata": {},
   "outputs": [
    {
     "name": "stdout",
     "output_type": "stream",
     "text": [
      "Status: Optimal\n",
      "shift_1 = 3.3333333\n",
      "shift_2 = 40.0\n",
      "shift_3 = 13.333333\n",
      "shift_4 = 0.0\n",
      "shift_5 = 13.333333\n",
      "shift_6 = 93.333333\n",
      "shift_7 = 0.0\n",
      "objective value =  163.3333323\n"
     ]
    }
   ],
   "source": [
    "demand = [110,80,150,30,70,160,120]\n",
    "\n",
    "\n",
    "shift_1 = plp.LpVariable(\"shift_1\",lowBound= 0, cat='Continuous')\n",
    "shift_2 = plp.LpVariable(\"shift_2\",lowBound= 0, cat='Continuous')\n",
    "shift_3 = plp.LpVariable(\"shift_3\",lowBound= 0, cat='Continuous')\n",
    "shift_4 = plp.LpVariable(\"shift_4\",lowBound= 0, cat='Continuous')\n",
    "shift_5 = plp.LpVariable(\"shift_5\",lowBound= 0, cat='Continuous')\n",
    "shift_6 = plp.LpVariable(\"shift_6\",lowBound= 0, cat='Continuous')\n",
    "shift_7 = plp.LpVariable(\"shift_7\",lowBound= 0, cat='Continuous')\n",
    "\n",
    "\n",
    "\n",
    "prob = plp.LpProblem(\"min shift_1+ shift_2 +..+ shift_7\", plp.LpMinimize)\n",
    "prob += shift_1 + shift_2 + shift_3 + shift_4 + shift_5 + shift_6 + shift_7 # objective\n",
    "\n",
    "prob += shift_1 + shift_4 + shift_5 + shift_6 + shift_7  >= demand[0]\n",
    "prob += shift_1 + shift_2 + shift_5 + shift_6 + shift_7  >= demand[1]\n",
    "prob += shift_1 + shift_2 + shift_3 + shift_6 + shift_7  >= demand[2]\n",
    "prob += shift_1 + shift_2 + shift_3 + shift_4 + shift_7  >= demand[3]\n",
    "prob += shift_1 + shift_2 + shift_3 + shift_4 + shift_5  >= demand[4]\n",
    "prob += shift_2 + shift_3 + shift_4 + shift_5 + shift_6  >= demand[5]\n",
    "prob += shift_3 + shift_4 + shift_5 + shift_6 + shift_7  >= demand[6]\n",
    "\n",
    "\n",
    "prob.solve()\n",
    "print(\"Status:\", plp.LpStatus[prob.status])\n",
    "\n",
    "for v in prob.variables():\n",
    "    print(v.name, \"=\", v.varValue)\n",
    "print(\"objective value = \", plp.value(prob.objective))\n"
   ]
  },
  {
   "cell_type": "markdown",
   "id": "capable-sperm",
   "metadata": {},
   "source": [
    "## same problem with loops (using LpVariable.dicts and  lpSum)"
   ]
  },
  {
   "cell_type": "code",
   "execution_count": 231,
   "id": "timely-industry",
   "metadata": {},
   "outputs": [],
   "source": [
    "variables = {}\n",
    "variables['shifts'] = plp.LpVariable.dicts('shift', indexs=range(1,8,1), lowBound=0, \n",
    "                                            cat='Continuous')\n",
    "\n",
    "prob = plp.LpProblem(\"min shift_1+ shift_2 +..+ shift_7\", plp.LpMinimize)\n",
    "prob += plp.lpSum([variables['shifts'][i]  for i in range(1,8,1)]) #objective"
   ]
  },
  {
   "cell_type": "code",
   "execution_count": 232,
   "id": "catholic-reconstruction",
   "metadata": {},
   "outputs": [
    {
     "data": {
      "text/plain": [
       "{1: shift_1,\n",
       " 2: shift_2,\n",
       " 3: shift_3,\n",
       " 4: shift_4,\n",
       " 5: shift_5,\n",
       " 6: shift_6,\n",
       " 7: shift_7}"
      ]
     },
     "execution_count": 232,
     "metadata": {},
     "output_type": "execute_result"
    }
   ],
   "source": [
    "variables['shifts'] "
   ]
  },
  {
   "cell_type": "code",
   "execution_count": 233,
   "id": "convinced-mistress",
   "metadata": {},
   "outputs": [],
   "source": [
    "# to define the constraints\n",
    "add = [variables['shifts'][i] for i in range(1,8,1)]\n",
    "constraints = {}\n",
    "for day_shift in range(1,8,1):\n",
    "    #print(day_shift)\n",
    "    mod_7 = day_shift%7\n",
    "    #print(mod_7)\n",
    "    if (mod_7 <= 5) and (mod_7 >= 1):\n",
    "        extract =  [variables['shifts'][day_shift+j] for j in range(1,3,1)]       \n",
    "        constraints['c'+ str(day_shift)] =  extract   \n",
    "    if (mod_7 == 6):\n",
    "        extract =  [variables['shifts'][j] for j in [7,1]]       \n",
    "        constraints['c'+ str(day_shift)] =  extract   \n",
    "    if (mod_7 == 0):\n",
    "        extract =  [variables['shifts'][j] for j in [1,2]]       \n",
    "        constraints['c'+ str(day_shift)] =  extract   \n",
    "\n",
    "for i in range(1,8,1):\n",
    "    prob += plp.lpSum(add) -  plp.lpSum(constraints['c'+str(i)]) >= demand[i-1]"
   ]
  },
  {
   "cell_type": "code",
   "execution_count": 234,
   "id": "dense-softball",
   "metadata": {},
   "outputs": [
    {
     "data": {
      "text/plain": [
       "{'c1': [shift_2, shift_3],\n",
       " 'c2': [shift_3, shift_4],\n",
       " 'c3': [shift_4, shift_5],\n",
       " 'c4': [shift_5, shift_6],\n",
       " 'c5': [shift_6, shift_7],\n",
       " 'c6': [shift_7, shift_1],\n",
       " 'c7': [shift_1, shift_2]}"
      ]
     },
     "execution_count": 234,
     "metadata": {},
     "output_type": "execute_result"
    }
   ],
   "source": [
    "constraints"
   ]
  },
  {
   "cell_type": "code",
   "execution_count": 200,
   "id": "light-brook",
   "metadata": {},
   "outputs": [
    {
     "name": "stdout",
     "output_type": "stream",
     "text": [
      "Status: Optimal\n",
      "shift_1 = 3.3333333\n",
      "shift_2 = 40.0\n",
      "shift_3 = 13.333333\n",
      "shift_4 = 0.0\n",
      "shift_5 = 13.333333\n",
      "shift_6 = 93.333333\n",
      "shift_7 = 0.0\n",
      "objective value =  163.3333323\n"
     ]
    }
   ],
   "source": [
    "\n",
    "prob.solve()\n",
    "print(\"Status:\", plp.LpStatus[prob.status])\n",
    "\n",
    "for v in prob.variables():\n",
    "    print(v.name, \"=\", v.varValue)\n",
    "print(\"objective value = \", plp.value(prob.objective))\n"
   ]
  },
  {
   "cell_type": "code",
   "execution_count": 201,
   "id": "current-lighter",
   "metadata": {},
   "outputs": [
    {
     "name": "stdout",
     "output_type": "stream",
     "text": [
      "result: 110.666667 - demand:110\n",
      "result: 150.666667 - demand:80\n",
      "result: 150.666667 - demand:150\n",
      "result: 57.33333400000001 - demand:30\n",
      "result: 70.666667 - demand:70\n",
      "result: 160.6666667 - demand:160\n",
      "result: 120.66666670000001 - demand:120\n"
     ]
    }
   ],
   "source": [
    "for day_shift in range(1,8,1):\n",
    "    c = np.sum(res)- np.sum([s.varValue for s in constraints['c'+str(day_shift)]])\n",
    "    print('result: ' + str(c) + ' - demand:' + str(demand[day_shift-1]))"
   ]
  },
  {
   "cell_type": "markdown",
   "id": "banner-liability",
   "metadata": {},
   "source": [
    "## 3.12 Personnel scheduling (integer linear program)"
   ]
  },
  {
   "cell_type": "code",
   "execution_count": 202,
   "id": "pretty-genius",
   "metadata": {},
   "outputs": [],
   "source": [
    "variables = {}\n",
    "variables['shifts'] = plp.LpVariable.dicts('shift', indexs=range(1,8,1), lowBound=0, \n",
    "                                            cat='Integer')\n",
    "\n",
    "prob = plp.LpProblem(\"min shift_1+ shift_2 +..+ shift_7\", plp.LpMinimize)\n",
    "prob += plp.lpSum([variables['shifts'][i]  for i in range(1,8,1)])"
   ]
  },
  {
   "cell_type": "code",
   "execution_count": 203,
   "id": "contemporary-skiing",
   "metadata": {},
   "outputs": [],
   "source": [
    "# to define the constraints\n",
    "add = [variables['shifts'][i] for i in range(1,8,1)]\n",
    "constraints = {}\n",
    "for day_shift in range(1,8,1):\n",
    "    #print(day_shift)\n",
    "    mod_7 = day_shift%7\n",
    "    #print(mod_7)\n",
    "    if (mod_7 <= 5) and (mod_7 >= 1):\n",
    "        extract =  [variables['shifts'][day_shift+j] for j in range(1,3,1)]       \n",
    "        constraints['c'+ str(day_shift)] =  extract   \n",
    "    if (mod_7 == 6):\n",
    "        extract =  [variables['shifts'][j] for j in [7,1]]       \n",
    "        constraints['c'+ str(day_shift)] =  extract   \n",
    "    if (mod_7 == 0):\n",
    "        extract =  [variables['shifts'][j] for j in [1,2]]       \n",
    "        constraints['c'+ str(day_shift)] =  extract   \n",
    "\n",
    "for i in range(1,8,1):\n",
    "    prob += plp.lpSum(add) -  plp.lpSum(constraints['c'+str(i)]) >= demand[i-1]"
   ]
  },
  {
   "cell_type": "code",
   "execution_count": 204,
   "id": "certain-pennsylvania",
   "metadata": {},
   "outputs": [
    {
     "data": {
      "text/plain": [
       "{'c1': [shift_2, shift_3],\n",
       " 'c2': [shift_3, shift_4],\n",
       " 'c3': [shift_4, shift_5],\n",
       " 'c4': [shift_5, shift_6],\n",
       " 'c5': [shift_6, shift_7],\n",
       " 'c6': [shift_7, shift_1],\n",
       " 'c7': [shift_1, shift_2]}"
      ]
     },
     "execution_count": 204,
     "metadata": {},
     "output_type": "execute_result"
    }
   ],
   "source": [
    "constraints"
   ]
  },
  {
   "cell_type": "code",
   "execution_count": 205,
   "id": "native-peoples",
   "metadata": {},
   "outputs": [
    {
     "name": "stdout",
     "output_type": "stream",
     "text": [
      "Status: Optimal\n",
      "shift_1 = 4.0\n",
      "shift_2 = 40.0\n",
      "shift_3 = 12.0\n",
      "shift_4 = 0.0\n",
      "shift_5 = 14.0\n",
      "shift_6 = 94.0\n",
      "shift_7 = 0.0\n",
      "objective value =  164.0\n"
     ]
    }
   ],
   "source": [
    "\n",
    "prob.solve()\n",
    "print(\"Status:\", plp.LpStatus[prob.status])\n",
    "\n",
    "for v in prob.variables():\n",
    "    print(v.name, \"=\", v.varValue)\n",
    "print(\"objective value = \", plp.value(prob.objective))"
   ]
  },
  {
   "cell_type": "code",
   "execution_count": 206,
   "id": "tested-latvia",
   "metadata": {},
   "outputs": [
    {
     "name": "stdout",
     "output_type": "stream",
     "text": [
      "result: 112.0 - demand:110\n",
      "result: 152.0 - demand:80\n",
      "result: 150.0 - demand:150\n",
      "result: 56.0 - demand:30\n",
      "result: 70.0 - demand:70\n",
      "result: 160.0 - demand:160\n",
      "result: 120.0 - demand:120\n"
     ]
    }
   ],
   "source": [
    "res = [v.varValue for v in prob.variables()]\n",
    "\n",
    "\n",
    "for day_shift in range(1,8,1):\n",
    "    c = np.sum(res)- np.sum([s.varValue for s in constraints['c'+str(day_shift)]])\n",
    "    print('result: ' + str(c) + ' - demand:' + str(demand[day_shift-1]))"
   ]
  },
  {
   "cell_type": "markdown",
   "id": "wired-springer",
   "metadata": {},
   "source": [
    "## 3.13 Facility location\n",
    "\n",
    "\n",
    "Type of problems:\n",
    "* Set covering: min number of facilities st cover all demand\n",
    "* Maximum covering: min insatisfied demand st a number of facilities\n",
    "* Fixed charge location: max net benefit of (income of covering demand and cost of  building facilities)\n"
   ]
  },
  {
   "cell_type": "markdown",
   "id": "inside-discipline",
   "metadata": {},
   "source": [
    "### Covering problem\n"
   ]
  },
  {
   "cell_type": "markdown",
   "id": "large-globe",
   "metadata": {},
   "source": [
    " * shipping books to \n",
    " * 5 regions r: nw, sw, mw, se, ne\n",
    " * demand of regions (thousands) D_r: 8, 12, 9, 14, 17 \n",
    "\n",
    " * 5 possible facilities f: s, w, o, h, j\n",
    " * op cost of each facility (thousands) C_f: 40, 30, 25, 40, 30\n",
    " * capacity of each facility (thousands) K_f: 20, 20, 15, 25, 15\n",
    "\n",
    " * shiping cost (matrix) (by unit) (region from all facilities) S_f,r\n",
    " * nw = 2.4, 3.25, 4.05, 5.25, 6.95\n",
    " * sw = 3.5,\t2.3,\t3.25,\t6.05,\t5.85\n",
    " * mw = 4.8,\t3.4,\t2.85,\t4.3,\t4.8\n",
    " * se = 6.8,\t5.25,\t4.3,\t3.25,\t2.1\n",
    " * ne = 5.75,\t6,\t4.75,\t2.75,\t3.5\n",
    "\n",
    " * max benefit but price fixed --> min cost\n"
   ]
  },
  {
   "cell_type": "markdown",
   "id": "identical-consequence",
   "metadata": {},
   "source": [
    "### objective\n",
    "\\begin{align}\n",
    " max (\\sum_{f=1, r=1}^{F,R} (X_{f,r}  (P -  S_{f,r}))  -  \\sum_{f=1}^F (Z_f  C_f )  )  \n",
    "\\end{align}\n",
    "\n",
    "\n",
    "\n",
    "Since the price is fixed it is the same as min the costs:\n",
    "\n",
    "\\begin{align}\n",
    " min (\\sum_{f=1, r=1}^{F,R} ( X_{f,r}  S_{f,r})  + \\sum_{f=1}^F (Z_f  C_f )  )  \n",
    "\\end{align}\n",
    "\n",
    "\n",
    "### constraints:\n",
    "#### demand satisfaction:\n",
    "\\begin{align}\n",
    "st (\\sum_{f=1}^F X_{f,r}  >= D_r)   \\ \\ \\ \\ \\ \\ \\ ∀ r\n",
    "\\end{align}\n",
    "\n",
    "#### capacity constraint:\n",
    "If I want X_f,r>0 only when Z_f=1 :\n",
    "\n",
    "\\begin{align}\n",
    "  (\\sum_{r=1}^R X_{r} <= K_f Z_f)  \\ \\ \\ \\ \\ \\ \\ ∀ f\n",
    "\\end{align}\n",
    "\n",
    "#### variables constraints:\n",
    "\\begin{align}\n",
    "  Z_f = \\{0,1\\}  \\ \\ \\ \\ \\ \\ \\ ∀ f\n",
    "\\end{align}\n",
    "\\begin{align}\n",
    "  X_{f,r} >= 0  \\ \\ \\ \\ \\ \\ \\ ∀ f,r\n",
    "\\end{align}"
   ]
  },
  {
   "cell_type": "code",
   "execution_count": 383,
   "id": "polar-bermuda",
   "metadata": {},
   "outputs": [],
   "source": [
    "R = ['nw', 'sw', 'mw', 'se', 'ne']\n",
    "D_r =[1000 *x for x in  [8, 12, 9, 14, 17]]\n",
    "\n",
    "\n",
    "F = ['f1', 'f2', 'f3', 'f4', 'f5']\n",
    "C_f = [1000 *x for x in [40, 30, 25, 40, 30] ]\n",
    "K_f = [1000 *x for x in [20, 20, 15, 25, 15] ]\n",
    "\n",
    "\n",
    "\n",
    "S_r = {\n",
    "'nw' : [2.4, 3.25, 4.05, 5.25, 6.95],\n",
    "'sw' : [3.5, 2.3, 3.25, 6.05, 5.85],\n",
    "'mw' : [4.8, 3.4, 2.85, 4.3, 4.8],\n",
    "'se' : [6.8, 5.25, 4.3, 3.25, 2.1],\n",
    "'ne' : [5.75, 6, 4.75, 2.75, 3.5]\n",
    "}\n",
    "\n",
    "\n",
    "S_f_r = {}\n",
    "\n",
    "for r in R:\n",
    "    for i,f in enumerate(F):\n",
    "        S_f_r[(f,r)] = S_r[r][i]     \n",
    "\n"
   ]
  },
  {
   "cell_type": "code",
   "execution_count": 384,
   "id": "facial-ballet",
   "metadata": {},
   "outputs": [
    {
     "data": {
      "text/plain": [
       "{('f1', 'nw'): 2.4,\n",
       " ('f2', 'nw'): 3.25,\n",
       " ('f3', 'nw'): 4.05,\n",
       " ('f4', 'nw'): 5.25,\n",
       " ('f5', 'nw'): 6.95,\n",
       " ('f1', 'sw'): 3.5,\n",
       " ('f2', 'sw'): 2.3,\n",
       " ('f3', 'sw'): 3.25,\n",
       " ('f4', 'sw'): 6.05,\n",
       " ('f5', 'sw'): 5.85,\n",
       " ('f1', 'mw'): 4.8,\n",
       " ('f2', 'mw'): 3.4,\n",
       " ('f3', 'mw'): 2.85,\n",
       " ('f4', 'mw'): 4.3,\n",
       " ('f5', 'mw'): 4.8,\n",
       " ('f1', 'se'): 6.8,\n",
       " ('f2', 'se'): 5.25,\n",
       " ('f3', 'se'): 4.3,\n",
       " ('f4', 'se'): 3.25,\n",
       " ('f5', 'se'): 2.1,\n",
       " ('f1', 'ne'): 5.75,\n",
       " ('f2', 'ne'): 6,\n",
       " ('f3', 'ne'): 4.75,\n",
       " ('f4', 'ne'): 2.75,\n",
       " ('f5', 'ne'): 3.5}"
      ]
     },
     "execution_count": 384,
     "metadata": {},
     "output_type": "execute_result"
    }
   ],
   "source": [
    "S_f_r"
   ]
  },
  {
   "cell_type": "code",
   "execution_count": 385,
   "id": "resistant-mercy",
   "metadata": {},
   "outputs": [],
   "source": [
    "variables = {} # decision variables\n",
    "\n",
    "# integer if that facility is built 1\n",
    "variables['facilities'] = plp.LpVariable.dicts('facilities', indexs= F , \n",
    "                                            cat='Binary')\n",
    "\n",
    "for f in F:\n",
    "    variables['books_sent_from_fac_'+str(f)] = plp.LpVariable.dicts(\n",
    "        'books_sent_from_fac_'+str(f)+'_to_region', \n",
    "        indexs=R , lowBound=0, \n",
    "        cat='Continuos')"
   ]
  },
  {
   "cell_type": "code",
   "execution_count": 386,
   "id": "cordless-florist",
   "metadata": {},
   "outputs": [
    {
     "data": {
      "text/plain": [
       "{'facilities': {'f1': facilities_f1,\n",
       "  'f2': facilities_f2,\n",
       "  'f3': facilities_f3,\n",
       "  'f4': facilities_f4,\n",
       "  'f5': facilities_f5},\n",
       " 'books_sent_from_fac_f1': {'nw': books_sent_from_fac_f1_to_region_nw,\n",
       "  'sw': books_sent_from_fac_f1_to_region_sw,\n",
       "  'mw': books_sent_from_fac_f1_to_region_mw,\n",
       "  'se': books_sent_from_fac_f1_to_region_se,\n",
       "  'ne': books_sent_from_fac_f1_to_region_ne},\n",
       " 'books_sent_from_fac_f2': {'nw': books_sent_from_fac_f2_to_region_nw,\n",
       "  'sw': books_sent_from_fac_f2_to_region_sw,\n",
       "  'mw': books_sent_from_fac_f2_to_region_mw,\n",
       "  'se': books_sent_from_fac_f2_to_region_se,\n",
       "  'ne': books_sent_from_fac_f2_to_region_ne},\n",
       " 'books_sent_from_fac_f3': {'nw': books_sent_from_fac_f3_to_region_nw,\n",
       "  'sw': books_sent_from_fac_f3_to_region_sw,\n",
       "  'mw': books_sent_from_fac_f3_to_region_mw,\n",
       "  'se': books_sent_from_fac_f3_to_region_se,\n",
       "  'ne': books_sent_from_fac_f3_to_region_ne},\n",
       " 'books_sent_from_fac_f4': {'nw': books_sent_from_fac_f4_to_region_nw,\n",
       "  'sw': books_sent_from_fac_f4_to_region_sw,\n",
       "  'mw': books_sent_from_fac_f4_to_region_mw,\n",
       "  'se': books_sent_from_fac_f4_to_region_se,\n",
       "  'ne': books_sent_from_fac_f4_to_region_ne},\n",
       " 'books_sent_from_fac_f5': {'nw': books_sent_from_fac_f5_to_region_nw,\n",
       "  'sw': books_sent_from_fac_f5_to_region_sw,\n",
       "  'mw': books_sent_from_fac_f5_to_region_mw,\n",
       "  'se': books_sent_from_fac_f5_to_region_se,\n",
       "  'ne': books_sent_from_fac_f5_to_region_ne}}"
      ]
     },
     "execution_count": 386,
     "metadata": {},
     "output_type": "execute_result"
    }
   ],
   "source": [
    "variables"
   ]
  },
  {
   "cell_type": "markdown",
   "id": "pending-retirement",
   "metadata": {},
   "source": [
    "## Problem setup"
   ]
  },
  {
   "cell_type": "code",
   "execution_count": 408,
   "id": "recognized-revision",
   "metadata": {},
   "outputs": [],
   "source": [
    "prob = plp.LpProblem(\"min cost facility location\", plp.LpMinimize)\n",
    "\n",
    "cost_setup = plp.lpSum([variables['facilities'][f] * c  for f,c in zip(F,C_f) ])\n",
    "\n",
    "cost_shipping = plp.lpSum([ S_f_r [f,r] * \\\n",
    "                     variables['books_sent_from_fac_'+str(f)][str(r)]  \\\n",
    "                     for f,r in list(itertools.product(F,R)) ]) \n",
    "#print(cost_setup + cost_shipping)\n",
    "prob += plp.lpSum(cost_setup + cost_shipping ) #objective"
   ]
  },
  {
   "cell_type": "code",
   "execution_count": 403,
   "id": "dietary-small",
   "metadata": {},
   "outputs": [],
   "source": [
    "#constraints demand\n",
    "for i,r in enumerate(R):\n",
    "    prob += plp.lpSum( [variables['books_sent_from_fac_'+str(f)][str(r)] for f in F]) >= D_r[i]\n",
    "\n",
    "# constraint capacity\n",
    "for i,f in enumerate(F):\n",
    "    prob += plp.lpSum( [variables['books_sent_from_fac_'+str(f)][str(r)] for r in R]) <= K_f[i] * variables['facilities'][f] \n",
    "\n",
    "    "
   ]
  },
  {
   "cell_type": "code",
   "execution_count": 404,
   "id": "animated-printer",
   "metadata": {},
   "outputs": [
    {
     "name": "stdout",
     "output_type": "stream",
     "text": [
      "Status: Optimal\n",
      "books_sent_from_fac_f1_to_region_mw = 0.0\n",
      "books_sent_from_fac_f1_to_region_ne = 0.0\n",
      "books_sent_from_fac_f1_to_region_nw = 0.0\n",
      "books_sent_from_fac_f1_to_region_se = 0.0\n",
      "books_sent_from_fac_f1_to_region_sw = 0.0\n",
      "books_sent_from_fac_f2_to_region_mw = 0.0\n",
      "books_sent_from_fac_f2_to_region_ne = 0.0\n",
      "books_sent_from_fac_f2_to_region_nw = 8000.0\n",
      "books_sent_from_fac_f2_to_region_se = 0.0\n",
      "books_sent_from_fac_f2_to_region_sw = 12000.0\n",
      "books_sent_from_fac_f3_to_region_mw = 0.0\n",
      "books_sent_from_fac_f3_to_region_ne = 0.0\n",
      "books_sent_from_fac_f3_to_region_nw = 0.0\n",
      "books_sent_from_fac_f3_to_region_se = 0.0\n",
      "books_sent_from_fac_f3_to_region_sw = 0.0\n",
      "books_sent_from_fac_f4_to_region_mw = 8000.0\n",
      "books_sent_from_fac_f4_to_region_ne = 17000.0\n",
      "books_sent_from_fac_f4_to_region_nw = 0.0\n",
      "books_sent_from_fac_f4_to_region_se = 0.0\n",
      "books_sent_from_fac_f4_to_region_sw = 0.0\n",
      "books_sent_from_fac_f5_to_region_mw = 1000.0\n",
      "books_sent_from_fac_f5_to_region_ne = 0.0\n",
      "books_sent_from_fac_f5_to_region_nw = 0.0\n",
      "books_sent_from_fac_f5_to_region_se = 14000.0\n",
      "books_sent_from_fac_f5_to_region_sw = 0.0\n",
      "facilities_f1 = 0.0\n",
      "facilities_f2 = 1.0\n",
      "facilities_f3 = 0.0\n",
      "facilities_f4 = 1.0\n",
      "facilities_f5 = 1.0\n",
      "objective value =  268950.0\n"
     ]
    }
   ],
   "source": [
    " \n",
    "prob.solve()\n",
    "print(\"Status:\", plp.LpStatus[prob.status])\n",
    "\n",
    "for v in prob.variables():\n",
    "    print(v.name, \"=\", v.varValue)\n",
    "print(\"objective value = \", plp.value(prob.objective))"
   ]
  },
  {
   "cell_type": "markdown",
   "id": "permanent-recovery",
   "metadata": {},
   "source": [
    "## Verification of constraints"
   ]
  },
  {
   "cell_type": "code",
   "execution_count": 405,
   "id": "trained-panic",
   "metadata": {},
   "outputs": [],
   "source": [
    "res = dict([(str(v), v.varValue) for v in prob.variables()])\n"
   ]
  },
  {
   "cell_type": "code",
   "execution_count": 406,
   "id": "received-lyric",
   "metadata": {},
   "outputs": [
    {
     "name": "stdout",
     "output_type": "stream",
     "text": [
      "region: nw- supply: 8000.0 - demand:8000\n",
      "region: sw- supply: 12000.0 - demand:12000\n",
      "region: mw- supply: 9000.0 - demand:9000\n",
      "region: se- supply: 14000.0 - demand:14000\n",
      "region: ne- supply: 17000.0 - demand:17000\n"
     ]
    }
   ],
   "source": [
    "#constraint demand?\n",
    "for i,r in enumerate(R):\n",
    "    supply = np.sum( [res['books_sent_from_fac_'+str(f)+'_to_region_'+str(r) ]  for f in F] )\n",
    "    print('region: ' + str(r) + '- supply: ' + str(supply) + ' - demand:' + str(D_r[i]))"
   ]
  },
  {
   "cell_type": "code",
   "execution_count": 407,
   "id": "pleased-floating",
   "metadata": {},
   "outputs": [
    {
     "name": "stdout",
     "output_type": "stream",
     "text": [
      "facility: f1- supply: 0.0 - capacity:20000\n",
      "facility: f2- supply: 20000.0 - capacity:20000\n",
      "facility: f3- supply: 0.0 - capacity:15000\n",
      "facility: f4- supply: 25000.0 - capacity:25000\n",
      "facility: f5- supply: 15000.0 - capacity:15000\n"
     ]
    }
   ],
   "source": [
    "#constraint capacity?\n",
    "for i,f in enumerate(F):\n",
    "    supply = np.sum( [res['books_sent_from_fac_'+str(f)+'_to_region_'+str(r) ]  for r in R] )\n",
    "    print('facility: ' + str(f) + '- supply: ' + str(supply) + ' - capacity:' + str(K_f[i]))"
   ]
  },
  {
   "cell_type": "markdown",
   "id": "progressive-flight",
   "metadata": {},
   "source": [
    "## 4.13 Portfolio Optization Problem (non linear program)\n"
   ]
  },
  {
   "cell_type": "code",
   "execution_count": 229,
   "id": "robust-chase",
   "metadata": {},
   "outputs": [],
   "source": [
    "R = 115000\n",
    "x1 = cp.Variable()\n",
    "x2 = cp.Variable()\n",
    "x3 = cp.Variable()\n"
   ]
  },
  {
   "cell_type": "code",
   "execution_count": 230,
   "id": "wrapped-editor",
   "metadata": {},
   "outputs": [
    {
     "name": "stdout",
     "output_type": "stream",
     "text": [
      "1333.3293405828929 833.3366790888199 0.0026249112689420927 1288031198.7270343\n"
     ]
    }
   ],
   "source": [
    "objective = cp.Minimize(100 *x1**2 + 1600*x2**2 + 100* x3**3)\n",
    "constraints = [50*x1+40*x2+25*x3<=100000, \n",
    "               55*x1+50*x2+20*x3>= R]\n",
    "prob = cp.Problem(objective, constraints)\n",
    "result = prob.solve()#verbose=True)\n",
    "\n",
    "print(x1.value, x2.value, x3.value, result)"
   ]
  },
  {
   "cell_type": "code",
   "execution_count": null,
   "id": "appreciated-turning",
   "metadata": {},
   "outputs": [],
   "source": [
    "\n",
    "\n",
    "\n",
    "\n",
    "\n",
    "\n",
    "\n",
    "\n",
    "\n",
    "\n",
    "\n"
   ]
  }
 ],
 "metadata": {
  "kernelspec": {
   "display_name": "Python 3",
   "language": "python",
   "name": "python3"
  },
  "language_info": {
   "codemirror_mode": {
    "name": "ipython",
    "version": 3
   },
   "file_extension": ".py",
   "mimetype": "text/x-python",
   "name": "python",
   "nbconvert_exporter": "python",
   "pygments_lexer": "ipython3",
   "version": "3.9.4"
  }
 },
 "nbformat": 4,
 "nbformat_minor": 5
}
